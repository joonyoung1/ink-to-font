{
  "nbformat": 4,
  "nbformat_minor": 0,
  "metadata": {
    "colab": {
      "provenance": []
    },
    "kernelspec": {
      "name": "python3",
      "display_name": "Python 3"
    },
    "language_info": {
      "name": "python"
    }
  },
  "cells": [
    {
      "cell_type": "markdown",
      "source": [
        "### InkToFont Dataset"
      ],
      "metadata": {
        "id": "sW4FhLMGktMD"
      }
    },
    {
      "cell_type": "markdown",
      "source": [
        "### import"
      ],
      "metadata": {
        "id": "tx4qWb-BKtF3"
      }
    },
    {
      "cell_type": "code",
      "source": [
        "import numpy as np\n",
        "from PIL import Image, ImageFont, ImageDraw"
      ],
      "metadata": {
        "id": "0P_dgutMKvsv"
      },
      "execution_count": 77,
      "outputs": []
    },
    {
      "cell_type": "markdown",
      "source": [
        "### 글자를 정중앙에 작성하는 과정"
      ],
      "metadata": {
        "id": "zdtj0jarKoLw"
      }
    },
    {
      "cell_type": "code",
      "source": [
        "def centerize_letter(letter, white, font):\n",
        "  image = Image.fromarray(white, mode='L')\n",
        "  draw = ImageDraw.Draw(image)\n",
        "  draw.text((0, 0), letter, (0), font=font)\n",
        "\n",
        "  array = np.array(image)\n",
        "  left, right, up, down = 0, 0, 0, 0\n",
        "\n",
        "  for row in range(128):\n",
        "    if not (array[row] == 255).all():\n",
        "      up = row\n",
        "      break\n",
        "\n",
        "  for row in range(127, -1, -1):\n",
        "    if not (array[row] == 255).all():\n",
        "      down = row\n",
        "      break\n",
        "\n",
        "  for col in range(128):\n",
        "    if not (array[:, col] == 255).all():\n",
        "      left = col\n",
        "      break\n",
        "\n",
        "  for col in range(127, -1, -1):\n",
        "    if not (array[:, col]).all():\n",
        "      right = col\n",
        "      break\n",
        "\n",
        "  dr = 64 - (up +  down) / 2\n",
        "  dc = 64 - (left + right) / 2\n",
        "\n",
        "  image = Image.fromarray(white, mode='L')\n",
        "  draw = ImageDraw.Draw(image)\n",
        "  draw.text((dc, dr), letter, (0), font=font)\n",
        "\n",
        "  return image"
      ],
      "metadata": {
        "id": "2DQv_6-6LADq"
      },
      "execution_count": 78,
      "outputs": []
    },
    {
      "cell_type": "markdown",
      "source": [
        "### 모든 한글을 순서대로 구하는 함수"
      ],
      "metadata": {
        "id": "UekjehKwFL_0"
      }
    },
    {
      "cell_type": "code",
      "source": [
        "def nextKorLetterFrom(letter):\n",
        "    lastLetterInt = 15572643\n",
        "\n",
        "    if not letter:\n",
        "        return '가'\n",
        "\n",
        "    a = letter\n",
        "    b = a.encode('utf8')\n",
        "    c = int(b.hex(), 16)\n",
        "\n",
        "    if c == lastLetterInt:\n",
        "        return False\n",
        "\n",
        "    d = hex(c + 1)\n",
        "    e = bytearray.fromhex(d[2:])\n",
        "\n",
        "    flag = True\n",
        "    while flag:\n",
        "        try:\n",
        "            r = e.decode('utf-8')\n",
        "            flag = False\n",
        "        except UnicodeDecodeError:\n",
        "            c = c + 1\n",
        "            d = hex(c)\n",
        "            e = bytearray.fromhex(d[2:])\n",
        "\n",
        "    return e.decode()"
      ],
      "metadata": {
        "id": "5eiUxukEn6Kl"
      },
      "execution_count": 79,
      "outputs": []
    },
    {
      "cell_type": "code",
      "source": [
        "letter = ''\n",
        "white = np.full((128, 128), 255, dtype=np.uint8)\n",
        "\n",
        "source_font_path = '/content/NanumGothic.ttf'\n",
        "source_font =  ImageFont.truetype(source_font_path, 100)\n",
        "target_font_path = '/content/NanumWild.ttf'\n",
        "target_font = ImageFont.truetype(target_font_path, 100)\n",
        "\n",
        "while True:\n",
        "  letter = nextKorLetterFrom(letter)\n",
        "  if not letter:\n",
        "    break\n",
        "\n",
        "  source_image = centerize_letter(letter, white, source_font)\n",
        "  target_image = centerize_letter(letter, white, target_font)\n",
        "  dst = Image.new('L', (256, 128))\n",
        "  dst.paste(source_image, (0, 0))\n",
        "  dst.paste(target_image, (128, 0))\n",
        "  dst.save(f'dataset/{letter}.png')"
      ],
      "metadata": {
        "id": "S0CELQoSpBYt"
      },
      "execution_count": 81,
      "outputs": []
    }
  ]
}